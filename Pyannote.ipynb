{
 "cells": [
  {
   "cell_type": "code",
   "execution_count": null,
   "id": "aa20c613-2be3-4f71-862b-2fba2938edea",
   "metadata": {},
   "outputs": [
    {
     "name": "stdout",
     "output_type": "stream",
     "text": [
      "Requirement already satisfied: sounddevice in c:\\users\\hari\\anaconda3\\lib\\site-packages (0.5.1)\n",
      "Requirement already satisfied: scipy in c:\\users\\hari\\anaconda3\\lib\\site-packages (1.15.2)\n",
      "Requirement already satisfied: CFFI>=1.0 in c:\\users\\hari\\anaconda3\\lib\\site-packages (from sounddevice) (1.17.1)\n",
      "Requirement already satisfied: numpy<2.5,>=1.23.5 in c:\\users\\hari\\anaconda3\\lib\\site-packages (from scipy) (2.1.3)\n",
      "Requirement already satisfied: pycparser in c:\\users\\hari\\anaconda3\\lib\\site-packages (from CFFI>=1.0->sounddevice) (2.21)\n",
      "Note: you may need to restart the kernel to use updated packages.\n"
     ]
    }
   ],
   "source": [
    "pip install sounddevice scipy"
   ]
  },
  {
   "cell_type": "code",
   "execution_count": 4,
   "id": "b464cc6f-9a96-4d95-91be-92fb8907ab21",
   "metadata": {},
   "outputs": [
    {
     "name": "stdout",
     "output_type": "stream",
     "text": [
      "Requirement already satisfied: pyannote.audio in c:\\users\\hari\\anaconda3\\lib\\site-packages (3.3.2)\n",
      "Requirement already satisfied: asteroid-filterbanks>=0.4 in c:\\users\\hari\\anaconda3\\lib\\site-packages (from pyannote.audio) (0.4.0)\n",
      "Requirement already satisfied: einops>=0.6.0 in c:\\users\\hari\\anaconda3\\lib\\site-packages (from pyannote.audio) (0.8.1)\n",
      "Requirement already satisfied: huggingface-hub>=0.13.0 in c:\\users\\hari\\anaconda3\\lib\\site-packages (from pyannote.audio) (0.29.2)\n",
      "Requirement already satisfied: lightning>=2.0.1 in c:\\users\\hari\\anaconda3\\lib\\site-packages (from pyannote.audio) (2.5.0.post0)\n",
      "Requirement already satisfied: omegaconf<3.0,>=2.1 in c:\\users\\hari\\anaconda3\\lib\\site-packages (from pyannote.audio) (2.3.0)\n",
      "Requirement already satisfied: pyannote.core>=5.0.0 in c:\\users\\hari\\anaconda3\\lib\\site-packages (from pyannote.audio) (5.0.0)\n",
      "Requirement already satisfied: pyannote.database>=5.0.1 in c:\\users\\hari\\anaconda3\\lib\\site-packages (from pyannote.audio) (5.1.3)\n",
      "Requirement already satisfied: pyannote.metrics>=3.2 in c:\\users\\hari\\anaconda3\\lib\\site-packages (from pyannote.audio) (3.2.1)\n",
      "Requirement already satisfied: pyannote.pipeline>=3.0.1 in c:\\users\\hari\\anaconda3\\lib\\site-packages (from pyannote.audio) (3.0.1)\n",
      "Requirement already satisfied: pytorch-metric-learning>=2.1.0 in c:\\users\\hari\\anaconda3\\lib\\site-packages (from pyannote.audio) (2.8.1)\n",
      "Requirement already satisfied: rich>=12.0.0 in c:\\users\\hari\\anaconda3\\lib\\site-packages (from pyannote.audio) (13.9.4)\n",
      "Requirement already satisfied: semver>=3.0.0 in c:\\users\\hari\\anaconda3\\lib\\site-packages (from pyannote.audio) (3.0.2)\n",
      "Requirement already satisfied: soundfile>=0.12.1 in c:\\users\\hari\\anaconda3\\lib\\site-packages (from pyannote.audio) (0.13.1)\n",
      "Requirement already satisfied: speechbrain>=1.0.0 in c:\\users\\hari\\anaconda3\\lib\\site-packages (from pyannote.audio) (1.0.2)\n",
      "Requirement already satisfied: tensorboardX>=2.6 in c:\\users\\hari\\anaconda3\\lib\\site-packages (from pyannote.audio) (2.6.2.2)\n",
      "Requirement already satisfied: torch>=2.0.0 in c:\\users\\hari\\anaconda3\\lib\\site-packages (from pyannote.audio) (2.6.0)\n",
      "Requirement already satisfied: torch-audiomentations>=0.11.0 in c:\\users\\hari\\anaconda3\\lib\\site-packages (from pyannote.audio) (0.12.0)\n",
      "Requirement already satisfied: torchaudio>=2.2.0 in c:\\users\\hari\\anaconda3\\lib\\site-packages (from pyannote.audio) (2.6.0)\n",
      "Requirement already satisfied: torchmetrics>=0.11.0 in c:\\users\\hari\\anaconda3\\lib\\site-packages (from pyannote.audio) (1.6.2)\n",
      "Requirement already satisfied: numpy in c:\\users\\hari\\anaconda3\\lib\\site-packages (from asteroid-filterbanks>=0.4->pyannote.audio) (2.1.3)\n",
      "Requirement already satisfied: typing-extensions in c:\\users\\hari\\anaconda3\\lib\\site-packages (from asteroid-filterbanks>=0.4->pyannote.audio) (4.12.2)\n",
      "Requirement already satisfied: filelock in c:\\users\\hari\\anaconda3\\lib\\site-packages (from huggingface-hub>=0.13.0->pyannote.audio) (3.13.1)\n",
      "Requirement already satisfied: fsspec>=2023.5.0 in c:\\users\\hari\\anaconda3\\lib\\site-packages (from huggingface-hub>=0.13.0->pyannote.audio) (2024.6.1)\n",
      "Requirement already satisfied: packaging>=20.9 in c:\\users\\hari\\anaconda3\\lib\\site-packages (from huggingface-hub>=0.13.0->pyannote.audio) (24.1)\n",
      "Requirement already satisfied: pyyaml>=5.1 in c:\\users\\hari\\anaconda3\\lib\\site-packages (from huggingface-hub>=0.13.0->pyannote.audio) (6.0.1)\n",
      "Requirement already satisfied: requests in c:\\users\\hari\\anaconda3\\lib\\site-packages (from huggingface-hub>=0.13.0->pyannote.audio) (2.32.3)\n",
      "Requirement already satisfied: tqdm>=4.42.1 in c:\\users\\hari\\anaconda3\\lib\\site-packages (from huggingface-hub>=0.13.0->pyannote.audio) (4.66.5)\n",
      "Requirement already satisfied: lightning-utilities<2.0,>=0.10.0 in c:\\users\\hari\\anaconda3\\lib\\site-packages (from lightning>=2.0.1->pyannote.audio) (0.14.0)\n",
      "Requirement already satisfied: pytorch-lightning in c:\\users\\hari\\anaconda3\\lib\\site-packages (from lightning>=2.0.1->pyannote.audio) (2.5.0.post0)\n",
      "Requirement already satisfied: antlr4-python3-runtime==4.9.* in c:\\users\\hari\\anaconda3\\lib\\site-packages (from omegaconf<3.0,>=2.1->pyannote.audio) (4.9.3)\n",
      "Requirement already satisfied: sortedcontainers>=2.0.4 in c:\\users\\hari\\anaconda3\\lib\\site-packages (from pyannote.core>=5.0.0->pyannote.audio) (2.4.0)\n",
      "Requirement already satisfied: scipy>=1.1 in c:\\users\\hari\\anaconda3\\lib\\site-packages (from pyannote.core>=5.0.0->pyannote.audio) (1.15.2)\n",
      "Requirement already satisfied: pandas>=0.19 in c:\\users\\hari\\anaconda3\\lib\\site-packages (from pyannote.database>=5.0.1->pyannote.audio) (2.2.3)\n",
      "Requirement already satisfied: typer>=0.12.1 in c:\\users\\hari\\anaconda3\\lib\\site-packages (from pyannote.database>=5.0.1->pyannote.audio) (0.15.2)\n",
      "Requirement already satisfied: scikit-learn>=0.17.1 in c:\\users\\hari\\anaconda3\\lib\\site-packages (from pyannote.metrics>=3.2->pyannote.audio) (1.6.1)\n",
      "Requirement already satisfied: docopt>=0.6.2 in c:\\users\\hari\\anaconda3\\lib\\site-packages (from pyannote.metrics>=3.2->pyannote.audio) (0.6.2)\n",
      "Requirement already satisfied: tabulate>=0.7.7 in c:\\users\\hari\\anaconda3\\lib\\site-packages (from pyannote.metrics>=3.2->pyannote.audio) (0.9.0)\n",
      "Requirement already satisfied: matplotlib>=2.0.0 in c:\\users\\hari\\anaconda3\\lib\\site-packages (from pyannote.metrics>=3.2->pyannote.audio) (3.10.1)\n",
      "Requirement already satisfied: sympy>=1.1 in c:\\users\\hari\\anaconda3\\lib\\site-packages (from pyannote.metrics>=3.2->pyannote.audio) (1.13.1)\n",
      "Requirement already satisfied: optuna>=3.1 in c:\\users\\hari\\anaconda3\\lib\\site-packages (from pyannote.pipeline>=3.0.1->pyannote.audio) (4.2.1)\n",
      "Requirement already satisfied: markdown-it-py>=2.2.0 in c:\\users\\hari\\anaconda3\\lib\\site-packages (from rich>=12.0.0->pyannote.audio) (3.0.0)\n",
      "Requirement already satisfied: pygments<3.0.0,>=2.13.0 in c:\\users\\hari\\anaconda3\\lib\\site-packages (from rich>=12.0.0->pyannote.audio) (2.15.1)\n",
      "Requirement already satisfied: cffi>=1.0 in c:\\users\\hari\\anaconda3\\lib\\site-packages (from soundfile>=0.12.1->pyannote.audio) (1.17.1)\n",
      "Requirement already satisfied: hyperpyyaml in c:\\users\\hari\\anaconda3\\lib\\site-packages (from speechbrain>=1.0.0->pyannote.audio) (1.2.2)\n",
      "Requirement already satisfied: joblib in c:\\users\\hari\\anaconda3\\lib\\site-packages (from speechbrain>=1.0.0->pyannote.audio) (1.4.2)\n",
      "Requirement already satisfied: sentencepiece in c:\\users\\hari\\anaconda3\\lib\\site-packages (from speechbrain>=1.0.0->pyannote.audio) (0.2.0)\n",
      "Requirement already satisfied: protobuf>=3.20 in c:\\users\\hari\\anaconda3\\lib\\site-packages (from tensorboardX>=2.6->pyannote.audio) (5.29.3)\n",
      "Requirement already satisfied: networkx in c:\\users\\hari\\anaconda3\\lib\\site-packages (from torch>=2.0.0->pyannote.audio) (3.3)\n",
      "Requirement already satisfied: jinja2 in c:\\users\\hari\\anaconda3\\lib\\site-packages (from torch>=2.0.0->pyannote.audio) (3.1.4)\n",
      "Requirement already satisfied: setuptools in c:\\users\\hari\\anaconda3\\lib\\site-packages (from torch>=2.0.0->pyannote.audio) (75.8.2)\n",
      "Requirement already satisfied: mpmath<1.4,>=1.1.0 in c:\\users\\hari\\anaconda3\\lib\\site-packages (from sympy>=1.1->pyannote.metrics>=3.2->pyannote.audio) (1.3.0)\n",
      "Requirement already satisfied: julius<0.3,>=0.2.3 in c:\\users\\hari\\anaconda3\\lib\\site-packages (from torch-audiomentations>=0.11.0->pyannote.audio) (0.2.7)\n",
      "Requirement already satisfied: torch-pitch-shift>=1.2.2 in c:\\users\\hari\\anaconda3\\lib\\site-packages (from torch-audiomentations>=0.11.0->pyannote.audio) (1.2.5)\n",
      "Requirement already satisfied: pycparser in c:\\users\\hari\\anaconda3\\lib\\site-packages (from cffi>=1.0->soundfile>=0.12.1->pyannote.audio) (2.21)\n",
      "Requirement already satisfied: aiohttp!=4.0.0a0,!=4.0.0a1 in c:\\users\\hari\\anaconda3\\lib\\site-packages (from fsspec[http]<2026.0,>=2022.5.0->lightning>=2.0.1->pyannote.audio) (3.10.5)\n",
      "Requirement already satisfied: mdurl~=0.1 in c:\\users\\hari\\anaconda3\\lib\\site-packages (from markdown-it-py>=2.2.0->rich>=12.0.0->pyannote.audio) (0.1.2)\n",
      "Requirement already satisfied: contourpy>=1.0.1 in c:\\users\\hari\\anaconda3\\lib\\site-packages (from matplotlib>=2.0.0->pyannote.metrics>=3.2->pyannote.audio) (1.3.1)\n",
      "Requirement already satisfied: cycler>=0.10 in c:\\users\\hari\\anaconda3\\lib\\site-packages (from matplotlib>=2.0.0->pyannote.metrics>=3.2->pyannote.audio) (0.12.1)\n",
      "Requirement already satisfied: fonttools>=4.22.0 in c:\\users\\hari\\anaconda3\\lib\\site-packages (from matplotlib>=2.0.0->pyannote.metrics>=3.2->pyannote.audio) (4.56.0)\n",
      "Requirement already satisfied: kiwisolver>=1.3.1 in c:\\users\\hari\\anaconda3\\lib\\site-packages (from matplotlib>=2.0.0->pyannote.metrics>=3.2->pyannote.audio) (1.4.8)\n",
      "Requirement already satisfied: pillow>=8 in c:\\users\\hari\\anaconda3\\lib\\site-packages (from matplotlib>=2.0.0->pyannote.metrics>=3.2->pyannote.audio) (10.4.0)\n",
      "Requirement already satisfied: pyparsing>=2.3.1 in c:\\users\\hari\\anaconda3\\lib\\site-packages (from matplotlib>=2.0.0->pyannote.metrics>=3.2->pyannote.audio) (3.2.1)\n",
      "Requirement already satisfied: python-dateutil>=2.7 in c:\\users\\hari\\anaconda3\\lib\\site-packages (from matplotlib>=2.0.0->pyannote.metrics>=3.2->pyannote.audio) (2.9.0.post0)\n",
      "Requirement already satisfied: alembic>=1.5.0 in c:\\users\\hari\\anaconda3\\lib\\site-packages (from optuna>=3.1->pyannote.pipeline>=3.0.1->pyannote.audio) (1.15.1)\n",
      "Requirement already satisfied: colorlog in c:\\users\\hari\\anaconda3\\lib\\site-packages (from optuna>=3.1->pyannote.pipeline>=3.0.1->pyannote.audio) (6.9.0)\n",
      "Requirement already satisfied: sqlalchemy>=1.4.2 in c:\\users\\hari\\anaconda3\\lib\\site-packages (from optuna>=3.1->pyannote.pipeline>=3.0.1->pyannote.audio) (2.0.38)\n",
      "Requirement already satisfied: pytz>=2020.1 in c:\\users\\hari\\anaconda3\\lib\\site-packages (from pandas>=0.19->pyannote.database>=5.0.1->pyannote.audio) (2024.1)\n",
      "Requirement already satisfied: tzdata>=2022.7 in c:\\users\\hari\\anaconda3\\lib\\site-packages (from pandas>=0.19->pyannote.database>=5.0.1->pyannote.audio) (2025.1)\n",
      "Requirement already satisfied: threadpoolctl>=3.1.0 in c:\\users\\hari\\anaconda3\\lib\\site-packages (from scikit-learn>=0.17.1->pyannote.metrics>=3.2->pyannote.audio) (3.5.0)\n",
      "Requirement already satisfied: primePy>=1.3 in c:\\users\\hari\\anaconda3\\lib\\site-packages (from torch-pitch-shift>=1.2.2->torch-audiomentations>=0.11.0->pyannote.audio) (1.3)\n",
      "Requirement already satisfied: colorama in c:\\users\\hari\\anaconda3\\lib\\site-packages (from tqdm>=4.42.1->huggingface-hub>=0.13.0->pyannote.audio) (0.4.6)\n",
      "Requirement already satisfied: click>=8.0.0 in c:\\users\\hari\\anaconda3\\lib\\site-packages (from typer>=0.12.1->pyannote.database>=5.0.1->pyannote.audio) (8.1.7)\n",
      "Requirement already satisfied: shellingham>=1.3.0 in c:\\users\\hari\\anaconda3\\lib\\site-packages (from typer>=0.12.1->pyannote.database>=5.0.1->pyannote.audio) (1.5.4)\n",
      "Requirement already satisfied: ruamel.yaml>=0.17.28 in c:\\users\\hari\\anaconda3\\lib\\site-packages (from hyperpyyaml->speechbrain>=1.0.0->pyannote.audio) (0.18.6)\n",
      "Requirement already satisfied: MarkupSafe>=2.0 in c:\\users\\hari\\anaconda3\\lib\\site-packages (from jinja2->torch>=2.0.0->pyannote.audio) (2.1.3)\n",
      "Requirement already satisfied: charset-normalizer<4,>=2 in c:\\users\\hari\\anaconda3\\lib\\site-packages (from requests->huggingface-hub>=0.13.0->pyannote.audio) (3.3.2)\n",
      "Requirement already satisfied: idna<4,>=2.5 in c:\\users\\hari\\anaconda3\\lib\\site-packages (from requests->huggingface-hub>=0.13.0->pyannote.audio) (3.7)\n",
      "Requirement already satisfied: urllib3<3,>=1.21.1 in c:\\users\\hari\\anaconda3\\lib\\site-packages (from requests->huggingface-hub>=0.13.0->pyannote.audio) (2.2.3)\n",
      "Requirement already satisfied: certifi>=2017.4.17 in c:\\users\\hari\\anaconda3\\lib\\site-packages (from requests->huggingface-hub>=0.13.0->pyannote.audio) (2025.1.31)\n",
      "Requirement already satisfied: aiohappyeyeballs>=2.3.0 in c:\\users\\hari\\anaconda3\\lib\\site-packages (from aiohttp!=4.0.0a0,!=4.0.0a1->fsspec[http]<2026.0,>=2022.5.0->lightning>=2.0.1->pyannote.audio) (2.4.0)\n",
      "Requirement already satisfied: aiosignal>=1.1.2 in c:\\users\\hari\\anaconda3\\lib\\site-packages (from aiohttp!=4.0.0a0,!=4.0.0a1->fsspec[http]<2026.0,>=2022.5.0->lightning>=2.0.1->pyannote.audio) (1.2.0)\n",
      "Requirement already satisfied: attrs>=17.3.0 in c:\\users\\hari\\anaconda3\\lib\\site-packages (from aiohttp!=4.0.0a0,!=4.0.0a1->fsspec[http]<2026.0,>=2022.5.0->lightning>=2.0.1->pyannote.audio) (23.1.0)\n",
      "Requirement already satisfied: frozenlist>=1.1.1 in c:\\users\\hari\\anaconda3\\lib\\site-packages (from aiohttp!=4.0.0a0,!=4.0.0a1->fsspec[http]<2026.0,>=2022.5.0->lightning>=2.0.1->pyannote.audio) (1.4.0)\n",
      "Requirement already satisfied: multidict<7.0,>=4.5 in c:\\users\\hari\\anaconda3\\lib\\site-packages (from aiohttp!=4.0.0a0,!=4.0.0a1->fsspec[http]<2026.0,>=2022.5.0->lightning>=2.0.1->pyannote.audio) (6.0.4)\n",
      "Requirement already satisfied: yarl<2.0,>=1.0 in c:\\users\\hari\\anaconda3\\lib\\site-packages (from aiohttp!=4.0.0a0,!=4.0.0a1->fsspec[http]<2026.0,>=2022.5.0->lightning>=2.0.1->pyannote.audio) (1.11.0)\n",
      "Requirement already satisfied: Mako in c:\\users\\hari\\anaconda3\\lib\\site-packages (from alembic>=1.5.0->optuna>=3.1->pyannote.pipeline>=3.0.1->pyannote.audio) (1.3.9)\n",
      "Requirement already satisfied: six>=1.5 in c:\\users\\hari\\anaconda3\\lib\\site-packages (from python-dateutil>=2.7->matplotlib>=2.0.0->pyannote.metrics>=3.2->pyannote.audio) (1.16.0)\n",
      "Requirement already satisfied: ruamel.yaml.clib>=0.2.7 in c:\\users\\hari\\anaconda3\\lib\\site-packages (from ruamel.yaml>=0.17.28->hyperpyyaml->speechbrain>=1.0.0->pyannote.audio) (0.2.8)\n",
      "Requirement already satisfied: greenlet!=0.4.17 in c:\\users\\hari\\anaconda3\\lib\\site-packages (from sqlalchemy>=1.4.2->optuna>=3.1->pyannote.pipeline>=3.0.1->pyannote.audio) (3.1.1)\n",
      "Note: you may need to restart the kernel to use updated packages.\n"
     ]
    }
   ],
   "source": [
    "pip install pyannote.audio"
   ]
  },
  {
   "cell_type": "code",
   "execution_count": 5,
   "id": "24d61f4a-e446-45db-a5ef-e2ff3d5a4e84",
   "metadata": {},
   "outputs": [
    {
     "name": "stdout",
     "output_type": "stream",
     "text": [
      "Requirement already satisfied: torch in c:\\users\\hari\\anaconda3\\lib\\site-packages (2.6.0)\n",
      "Requirement already satisfied: filelock in c:\\users\\hari\\anaconda3\\lib\\site-packages (from torch) (3.13.1)\n",
      "Requirement already satisfied: typing-extensions>=4.10.0 in c:\\users\\hari\\anaconda3\\lib\\site-packages (from torch) (4.12.2)\n",
      "Requirement already satisfied: networkx in c:\\users\\hari\\anaconda3\\lib\\site-packages (from torch) (3.3)\n",
      "Requirement already satisfied: jinja2 in c:\\users\\hari\\anaconda3\\lib\\site-packages (from torch) (3.1.4)\n",
      "Requirement already satisfied: fsspec in c:\\users\\hari\\anaconda3\\lib\\site-packages (from torch) (2024.6.1)\n",
      "Requirement already satisfied: setuptools in c:\\users\\hari\\anaconda3\\lib\\site-packages (from torch) (75.8.2)\n",
      "Requirement already satisfied: sympy==1.13.1 in c:\\users\\hari\\anaconda3\\lib\\site-packages (from torch) (1.13.1)\n",
      "Requirement already satisfied: mpmath<1.4,>=1.1.0 in c:\\users\\hari\\anaconda3\\lib\\site-packages (from sympy==1.13.1->torch) (1.3.0)\n",
      "Requirement already satisfied: MarkupSafe>=2.0 in c:\\users\\hari\\anaconda3\\lib\\site-packages (from jinja2->torch) (2.1.3)\n",
      "Note: you may need to restart the kernel to use updated packages.\n"
     ]
    }
   ],
   "source": [
    "pip install torch"
   ]
  },
  {
   "cell_type": "code",
   "execution_count": 6,
   "id": "60a5816d-ef58-4f99-846c-594ac924b1b6",
   "metadata": {},
   "outputs": [
    {
     "name": "stdout",
     "output_type": "stream",
     "text": [
      "Requirement already satisfied: torchaudio in c:\\users\\hari\\anaconda3\\lib\\site-packages (2.6.0)\n",
      "Requirement already satisfied: torch==2.6.0 in c:\\users\\hari\\anaconda3\\lib\\site-packages (from torchaudio) (2.6.0)\n",
      "Requirement already satisfied: filelock in c:\\users\\hari\\anaconda3\\lib\\site-packages (from torch==2.6.0->torchaudio) (3.13.1)\n",
      "Requirement already satisfied: typing-extensions>=4.10.0 in c:\\users\\hari\\anaconda3\\lib\\site-packages (from torch==2.6.0->torchaudio) (4.12.2)\n",
      "Requirement already satisfied: networkx in c:\\users\\hari\\anaconda3\\lib\\site-packages (from torch==2.6.0->torchaudio) (3.3)\n",
      "Requirement already satisfied: jinja2 in c:\\users\\hari\\anaconda3\\lib\\site-packages (from torch==2.6.0->torchaudio) (3.1.4)\n",
      "Requirement already satisfied: fsspec in c:\\users\\hari\\anaconda3\\lib\\site-packages (from torch==2.6.0->torchaudio) (2024.6.1)\n",
      "Requirement already satisfied: setuptools in c:\\users\\hari\\anaconda3\\lib\\site-packages (from torch==2.6.0->torchaudio) (75.8.2)\n",
      "Requirement already satisfied: sympy==1.13.1 in c:\\users\\hari\\anaconda3\\lib\\site-packages (from torch==2.6.0->torchaudio) (1.13.1)\n",
      "Requirement already satisfied: mpmath<1.4,>=1.1.0 in c:\\users\\hari\\anaconda3\\lib\\site-packages (from sympy==1.13.1->torch==2.6.0->torchaudio) (1.3.0)\n",
      "Requirement already satisfied: MarkupSafe>=2.0 in c:\\users\\hari\\anaconda3\\lib\\site-packages (from jinja2->torch==2.6.0->torchaudio) (2.1.3)\n",
      "Note: you may need to restart the kernel to use updated packages.\n"
     ]
    }
   ],
   "source": [
    "pip install torchaudio"
   ]
  },
  {
   "cell_type": "code",
   "execution_count": 7,
   "id": "1ae0ece2-12dd-4c67-b436-be029f4e6f81",
   "metadata": {},
   "outputs": [
    {
     "name": "stdout",
     "output_type": "stream",
     "text": [
      "Collecting pyannote.audio==3.1\n",
      "  Using cached pyannote.audio-3.1.0-py2.py3-none-any.whl.metadata (7.8 kB)\n",
      "Requirement already satisfied: asteroid-filterbanks>=0.4 in c:\\users\\hari\\anaconda3\\lib\\site-packages (from pyannote.audio==3.1) (0.4.0)\n",
      "Requirement already satisfied: einops>=0.6.0 in c:\\users\\hari\\anaconda3\\lib\\site-packages (from pyannote.audio==3.1) (0.8.1)\n",
      "Requirement already satisfied: huggingface-hub>=0.13.0 in c:\\users\\hari\\anaconda3\\lib\\site-packages (from pyannote.audio==3.1) (0.29.2)\n",
      "Requirement already satisfied: lightning>=2.0.1 in c:\\users\\hari\\anaconda3\\lib\\site-packages (from pyannote.audio==3.1) (2.5.0.post0)\n",
      "Requirement already satisfied: omegaconf<3.0,>=2.1 in c:\\users\\hari\\anaconda3\\lib\\site-packages (from pyannote.audio==3.1) (2.3.0)\n",
      "Requirement already satisfied: pyannote.core>=5.0.0 in c:\\users\\hari\\anaconda3\\lib\\site-packages (from pyannote.audio==3.1) (5.0.0)\n",
      "Requirement already satisfied: pyannote.database>=5.0.1 in c:\\users\\hari\\anaconda3\\lib\\site-packages (from pyannote.audio==3.1) (5.1.3)\n",
      "Requirement already satisfied: pyannote.metrics>=3.2 in c:\\users\\hari\\anaconda3\\lib\\site-packages (from pyannote.audio==3.1) (3.2.1)\n",
      "Requirement already satisfied: pyannote.pipeline>=3.0.1 in c:\\users\\hari\\anaconda3\\lib\\site-packages (from pyannote.audio==3.1) (3.0.1)\n",
      "Requirement already satisfied: pytorch-metric-learning>=2.1.0 in c:\\users\\hari\\anaconda3\\lib\\site-packages (from pyannote.audio==3.1) (2.8.1)\n",
      "Requirement already satisfied: rich>=12.0.0 in c:\\users\\hari\\anaconda3\\lib\\site-packages (from pyannote.audio==3.1) (13.9.4)\n",
      "Requirement already satisfied: semver>=3.0.0 in c:\\users\\hari\\anaconda3\\lib\\site-packages (from pyannote.audio==3.1) (3.0.2)\n",
      "Requirement already satisfied: soundfile>=0.12.1 in c:\\users\\hari\\anaconda3\\lib\\site-packages (from pyannote.audio==3.1) (0.13.1)\n",
      "Requirement already satisfied: speechbrain>=0.5.14 in c:\\users\\hari\\anaconda3\\lib\\site-packages (from pyannote.audio==3.1) (1.0.2)\n",
      "Requirement already satisfied: tensorboardX>=2.6 in c:\\users\\hari\\anaconda3\\lib\\site-packages (from pyannote.audio==3.1) (2.6.2.2)\n",
      "Requirement already satisfied: torch>=2.0.0 in c:\\users\\hari\\anaconda3\\lib\\site-packages (from pyannote.audio==3.1) (2.6.0)\n",
      "Requirement already satisfied: torch-audiomentations>=0.11.0 in c:\\users\\hari\\anaconda3\\lib\\site-packages (from pyannote.audio==3.1) (0.12.0)\n",
      "Requirement already satisfied: torchaudio>=2.0.0 in c:\\users\\hari\\anaconda3\\lib\\site-packages (from pyannote.audio==3.1) (2.6.0)\n",
      "Requirement already satisfied: torchmetrics>=0.11.0 in c:\\users\\hari\\anaconda3\\lib\\site-packages (from pyannote.audio==3.1) (1.6.2)\n",
      "Requirement already satisfied: numpy in c:\\users\\hari\\anaconda3\\lib\\site-packages (from asteroid-filterbanks>=0.4->pyannote.audio==3.1) (2.1.3)\n",
      "Requirement already satisfied: typing-extensions in c:\\users\\hari\\anaconda3\\lib\\site-packages (from asteroid-filterbanks>=0.4->pyannote.audio==3.1) (4.12.2)\n",
      "Requirement already satisfied: filelock in c:\\users\\hari\\anaconda3\\lib\\site-packages (from huggingface-hub>=0.13.0->pyannote.audio==3.1) (3.13.1)\n",
      "Requirement already satisfied: fsspec>=2023.5.0 in c:\\users\\hari\\anaconda3\\lib\\site-packages (from huggingface-hub>=0.13.0->pyannote.audio==3.1) (2024.6.1)\n",
      "Requirement already satisfied: packaging>=20.9 in c:\\users\\hari\\anaconda3\\lib\\site-packages (from huggingface-hub>=0.13.0->pyannote.audio==3.1) (24.1)\n",
      "Requirement already satisfied: pyyaml>=5.1 in c:\\users\\hari\\anaconda3\\lib\\site-packages (from huggingface-hub>=0.13.0->pyannote.audio==3.1) (6.0.1)\n",
      "Requirement already satisfied: requests in c:\\users\\hari\\anaconda3\\lib\\site-packages (from huggingface-hub>=0.13.0->pyannote.audio==3.1) (2.32.3)\n",
      "Requirement already satisfied: tqdm>=4.42.1 in c:\\users\\hari\\anaconda3\\lib\\site-packages (from huggingface-hub>=0.13.0->pyannote.audio==3.1) (4.66.5)\n",
      "Requirement already satisfied: lightning-utilities<2.0,>=0.10.0 in c:\\users\\hari\\anaconda3\\lib\\site-packages (from lightning>=2.0.1->pyannote.audio==3.1) (0.14.0)\n",
      "Requirement already satisfied: pytorch-lightning in c:\\users\\hari\\anaconda3\\lib\\site-packages (from lightning>=2.0.1->pyannote.audio==3.1) (2.5.0.post0)\n",
      "Requirement already satisfied: antlr4-python3-runtime==4.9.* in c:\\users\\hari\\anaconda3\\lib\\site-packages (from omegaconf<3.0,>=2.1->pyannote.audio==3.1) (4.9.3)\n",
      "Requirement already satisfied: sortedcontainers>=2.0.4 in c:\\users\\hari\\anaconda3\\lib\\site-packages (from pyannote.core>=5.0.0->pyannote.audio==3.1) (2.4.0)\n",
      "Requirement already satisfied: scipy>=1.1 in c:\\users\\hari\\anaconda3\\lib\\site-packages (from pyannote.core>=5.0.0->pyannote.audio==3.1) (1.15.2)\n",
      "Requirement already satisfied: pandas>=0.19 in c:\\users\\hari\\anaconda3\\lib\\site-packages (from pyannote.database>=5.0.1->pyannote.audio==3.1) (2.2.3)\n",
      "Requirement already satisfied: typer>=0.12.1 in c:\\users\\hari\\anaconda3\\lib\\site-packages (from pyannote.database>=5.0.1->pyannote.audio==3.1) (0.15.2)\n",
      "Requirement already satisfied: scikit-learn>=0.17.1 in c:\\users\\hari\\anaconda3\\lib\\site-packages (from pyannote.metrics>=3.2->pyannote.audio==3.1) (1.6.1)\n",
      "Requirement already satisfied: docopt>=0.6.2 in c:\\users\\hari\\anaconda3\\lib\\site-packages (from pyannote.metrics>=3.2->pyannote.audio==3.1) (0.6.2)\n",
      "Requirement already satisfied: tabulate>=0.7.7 in c:\\users\\hari\\anaconda3\\lib\\site-packages (from pyannote.metrics>=3.2->pyannote.audio==3.1) (0.9.0)\n",
      "Requirement already satisfied: matplotlib>=2.0.0 in c:\\users\\hari\\anaconda3\\lib\\site-packages (from pyannote.metrics>=3.2->pyannote.audio==3.1) (3.10.1)\n",
      "Requirement already satisfied: sympy>=1.1 in c:\\users\\hari\\anaconda3\\lib\\site-packages (from pyannote.metrics>=3.2->pyannote.audio==3.1) (1.13.1)\n",
      "Requirement already satisfied: optuna>=3.1 in c:\\users\\hari\\anaconda3\\lib\\site-packages (from pyannote.pipeline>=3.0.1->pyannote.audio==3.1) (4.2.1)\n",
      "Requirement already satisfied: markdown-it-py>=2.2.0 in c:\\users\\hari\\anaconda3\\lib\\site-packages (from rich>=12.0.0->pyannote.audio==3.1) (3.0.0)\n",
      "Requirement already satisfied: pygments<3.0.0,>=2.13.0 in c:\\users\\hari\\anaconda3\\lib\\site-packages (from rich>=12.0.0->pyannote.audio==3.1) (2.15.1)\n",
      "Requirement already satisfied: cffi>=1.0 in c:\\users\\hari\\anaconda3\\lib\\site-packages (from soundfile>=0.12.1->pyannote.audio==3.1) (1.17.1)\n",
      "Requirement already satisfied: hyperpyyaml in c:\\users\\hari\\anaconda3\\lib\\site-packages (from speechbrain>=0.5.14->pyannote.audio==3.1) (1.2.2)\n",
      "Requirement already satisfied: joblib in c:\\users\\hari\\anaconda3\\lib\\site-packages (from speechbrain>=0.5.14->pyannote.audio==3.1) (1.4.2)\n",
      "Requirement already satisfied: sentencepiece in c:\\users\\hari\\anaconda3\\lib\\site-packages (from speechbrain>=0.5.14->pyannote.audio==3.1) (0.2.0)\n",
      "Requirement already satisfied: protobuf>=3.20 in c:\\users\\hari\\anaconda3\\lib\\site-packages (from tensorboardX>=2.6->pyannote.audio==3.1) (5.29.3)\n",
      "Requirement already satisfied: networkx in c:\\users\\hari\\anaconda3\\lib\\site-packages (from torch>=2.0.0->pyannote.audio==3.1) (3.3)\n",
      "Requirement already satisfied: jinja2 in c:\\users\\hari\\anaconda3\\lib\\site-packages (from torch>=2.0.0->pyannote.audio==3.1) (3.1.4)\n",
      "Requirement already satisfied: setuptools in c:\\users\\hari\\anaconda3\\lib\\site-packages (from torch>=2.0.0->pyannote.audio==3.1) (75.8.2)\n",
      "Requirement already satisfied: mpmath<1.4,>=1.1.0 in c:\\users\\hari\\anaconda3\\lib\\site-packages (from sympy>=1.1->pyannote.metrics>=3.2->pyannote.audio==3.1) (1.3.0)\n",
      "Requirement already satisfied: julius<0.3,>=0.2.3 in c:\\users\\hari\\anaconda3\\lib\\site-packages (from torch-audiomentations>=0.11.0->pyannote.audio==3.1) (0.2.7)\n",
      "Requirement already satisfied: torch-pitch-shift>=1.2.2 in c:\\users\\hari\\anaconda3\\lib\\site-packages (from torch-audiomentations>=0.11.0->pyannote.audio==3.1) (1.2.5)\n",
      "Requirement already satisfied: pycparser in c:\\users\\hari\\anaconda3\\lib\\site-packages (from cffi>=1.0->soundfile>=0.12.1->pyannote.audio==3.1) (2.21)\n",
      "Requirement already satisfied: aiohttp!=4.0.0a0,!=4.0.0a1 in c:\\users\\hari\\anaconda3\\lib\\site-packages (from fsspec[http]<2026.0,>=2022.5.0->lightning>=2.0.1->pyannote.audio==3.1) (3.10.5)\n",
      "Requirement already satisfied: mdurl~=0.1 in c:\\users\\hari\\anaconda3\\lib\\site-packages (from markdown-it-py>=2.2.0->rich>=12.0.0->pyannote.audio==3.1) (0.1.2)\n",
      "Requirement already satisfied: contourpy>=1.0.1 in c:\\users\\hari\\anaconda3\\lib\\site-packages (from matplotlib>=2.0.0->pyannote.metrics>=3.2->pyannote.audio==3.1) (1.3.1)\n",
      "Requirement already satisfied: cycler>=0.10 in c:\\users\\hari\\anaconda3\\lib\\site-packages (from matplotlib>=2.0.0->pyannote.metrics>=3.2->pyannote.audio==3.1) (0.12.1)\n",
      "Requirement already satisfied: fonttools>=4.22.0 in c:\\users\\hari\\anaconda3\\lib\\site-packages (from matplotlib>=2.0.0->pyannote.metrics>=3.2->pyannote.audio==3.1) (4.56.0)\n",
      "Requirement already satisfied: kiwisolver>=1.3.1 in c:\\users\\hari\\anaconda3\\lib\\site-packages (from matplotlib>=2.0.0->pyannote.metrics>=3.2->pyannote.audio==3.1) (1.4.8)\n",
      "Requirement already satisfied: pillow>=8 in c:\\users\\hari\\anaconda3\\lib\\site-packages (from matplotlib>=2.0.0->pyannote.metrics>=3.2->pyannote.audio==3.1) (10.4.0)\n",
      "Requirement already satisfied: pyparsing>=2.3.1 in c:\\users\\hari\\anaconda3\\lib\\site-packages (from matplotlib>=2.0.0->pyannote.metrics>=3.2->pyannote.audio==3.1) (3.2.1)\n",
      "Requirement already satisfied: python-dateutil>=2.7 in c:\\users\\hari\\anaconda3\\lib\\site-packages (from matplotlib>=2.0.0->pyannote.metrics>=3.2->pyannote.audio==3.1) (2.9.0.post0)\n",
      "Requirement already satisfied: alembic>=1.5.0 in c:\\users\\hari\\anaconda3\\lib\\site-packages (from optuna>=3.1->pyannote.pipeline>=3.0.1->pyannote.audio==3.1) (1.15.1)\n",
      "Requirement already satisfied: colorlog in c:\\users\\hari\\anaconda3\\lib\\site-packages (from optuna>=3.1->pyannote.pipeline>=3.0.1->pyannote.audio==3.1) (6.9.0)\n",
      "Requirement already satisfied: sqlalchemy>=1.4.2 in c:\\users\\hari\\anaconda3\\lib\\site-packages (from optuna>=3.1->pyannote.pipeline>=3.0.1->pyannote.audio==3.1) (2.0.38)\n",
      "Requirement already satisfied: pytz>=2020.1 in c:\\users\\hari\\anaconda3\\lib\\site-packages (from pandas>=0.19->pyannote.database>=5.0.1->pyannote.audio==3.1) (2024.1)\n",
      "Requirement already satisfied: tzdata>=2022.7 in c:\\users\\hari\\anaconda3\\lib\\site-packages (from pandas>=0.19->pyannote.database>=5.0.1->pyannote.audio==3.1) (2025.1)\n",
      "Requirement already satisfied: threadpoolctl>=3.1.0 in c:\\users\\hari\\anaconda3\\lib\\site-packages (from scikit-learn>=0.17.1->pyannote.metrics>=3.2->pyannote.audio==3.1) (3.5.0)\n",
      "Requirement already satisfied: primePy>=1.3 in c:\\users\\hari\\anaconda3\\lib\\site-packages (from torch-pitch-shift>=1.2.2->torch-audiomentations>=0.11.0->pyannote.audio==3.1) (1.3)\n",
      "Requirement already satisfied: colorama in c:\\users\\hari\\anaconda3\\lib\\site-packages (from tqdm>=4.42.1->huggingface-hub>=0.13.0->pyannote.audio==3.1) (0.4.6)\n",
      "Requirement already satisfied: click>=8.0.0 in c:\\users\\hari\\anaconda3\\lib\\site-packages (from typer>=0.12.1->pyannote.database>=5.0.1->pyannote.audio==3.1) (8.1.7)\n",
      "Requirement already satisfied: shellingham>=1.3.0 in c:\\users\\hari\\anaconda3\\lib\\site-packages (from typer>=0.12.1->pyannote.database>=5.0.1->pyannote.audio==3.1) (1.5.4)\n",
      "Requirement already satisfied: ruamel.yaml>=0.17.28 in c:\\users\\hari\\anaconda3\\lib\\site-packages (from hyperpyyaml->speechbrain>=0.5.14->pyannote.audio==3.1) (0.18.6)\n",
      "Requirement already satisfied: MarkupSafe>=2.0 in c:\\users\\hari\\anaconda3\\lib\\site-packages (from jinja2->torch>=2.0.0->pyannote.audio==3.1) (2.1.3)\n",
      "Requirement already satisfied: charset-normalizer<4,>=2 in c:\\users\\hari\\anaconda3\\lib\\site-packages (from requests->huggingface-hub>=0.13.0->pyannote.audio==3.1) (3.3.2)\n",
      "Requirement already satisfied: idna<4,>=2.5 in c:\\users\\hari\\anaconda3\\lib\\site-packages (from requests->huggingface-hub>=0.13.0->pyannote.audio==3.1) (3.7)\n",
      "Requirement already satisfied: urllib3<3,>=1.21.1 in c:\\users\\hari\\anaconda3\\lib\\site-packages (from requests->huggingface-hub>=0.13.0->pyannote.audio==3.1) (2.2.3)\n",
      "Requirement already satisfied: certifi>=2017.4.17 in c:\\users\\hari\\anaconda3\\lib\\site-packages (from requests->huggingface-hub>=0.13.0->pyannote.audio==3.1) (2025.1.31)\n",
      "Requirement already satisfied: aiohappyeyeballs>=2.3.0 in c:\\users\\hari\\anaconda3\\lib\\site-packages (from aiohttp!=4.0.0a0,!=4.0.0a1->fsspec[http]<2026.0,>=2022.5.0->lightning>=2.0.1->pyannote.audio==3.1) (2.4.0)\n",
      "Requirement already satisfied: aiosignal>=1.1.2 in c:\\users\\hari\\anaconda3\\lib\\site-packages (from aiohttp!=4.0.0a0,!=4.0.0a1->fsspec[http]<2026.0,>=2022.5.0->lightning>=2.0.1->pyannote.audio==3.1) (1.2.0)\n",
      "Requirement already satisfied: attrs>=17.3.0 in c:\\users\\hari\\anaconda3\\lib\\site-packages (from aiohttp!=4.0.0a0,!=4.0.0a1->fsspec[http]<2026.0,>=2022.5.0->lightning>=2.0.1->pyannote.audio==3.1) (23.1.0)\n",
      "Requirement already satisfied: frozenlist>=1.1.1 in c:\\users\\hari\\anaconda3\\lib\\site-packages (from aiohttp!=4.0.0a0,!=4.0.0a1->fsspec[http]<2026.0,>=2022.5.0->lightning>=2.0.1->pyannote.audio==3.1) (1.4.0)\n",
      "Requirement already satisfied: multidict<7.0,>=4.5 in c:\\users\\hari\\anaconda3\\lib\\site-packages (from aiohttp!=4.0.0a0,!=4.0.0a1->fsspec[http]<2026.0,>=2022.5.0->lightning>=2.0.1->pyannote.audio==3.1) (6.0.4)\n",
      "Requirement already satisfied: yarl<2.0,>=1.0 in c:\\users\\hari\\anaconda3\\lib\\site-packages (from aiohttp!=4.0.0a0,!=4.0.0a1->fsspec[http]<2026.0,>=2022.5.0->lightning>=2.0.1->pyannote.audio==3.1) (1.11.0)\n",
      "Requirement already satisfied: Mako in c:\\users\\hari\\anaconda3\\lib\\site-packages (from alembic>=1.5.0->optuna>=3.1->pyannote.pipeline>=3.0.1->pyannote.audio==3.1) (1.3.9)\n",
      "Requirement already satisfied: six>=1.5 in c:\\users\\hari\\anaconda3\\lib\\site-packages (from python-dateutil>=2.7->matplotlib>=2.0.0->pyannote.metrics>=3.2->pyannote.audio==3.1) (1.16.0)\n",
      "Requirement already satisfied: ruamel.yaml.clib>=0.2.7 in c:\\users\\hari\\anaconda3\\lib\\site-packages (from ruamel.yaml>=0.17.28->hyperpyyaml->speechbrain>=0.5.14->pyannote.audio==3.1) (0.2.8)\n",
      "Requirement already satisfied: greenlet!=0.4.17 in c:\\users\\hari\\anaconda3\\lib\\site-packages (from sqlalchemy>=1.4.2->optuna>=3.1->pyannote.pipeline>=3.0.1->pyannote.audio==3.1) (3.1.1)\n",
      "Using cached pyannote.audio-3.1.0-py2.py3-none-any.whl (208 kB)\n",
      "Installing collected packages: pyannote.audio\n",
      "  Attempting uninstall: pyannote.audio\n",
      "    Found existing installation: pyannote.audio 3.3.2\n",
      "    Uninstalling pyannote.audio-3.3.2:\n",
      "      Successfully uninstalled pyannote.audio-3.3.2\n",
      "Successfully installed pyannote.audio-3.1.0\n",
      "Note: you may need to restart the kernel to use updated packages.\n"
     ]
    }
   ],
   "source": [
    "pip install pyannote.audio==3.1"
   ]
  },
  {
   "cell_type": "code",
   "execution_count": 15,
   "id": "cf2bef08-65cf-48b8-bd81-428aaa52c054",
   "metadata": {},
   "outputs": [
    {
     "name": "stdout",
     "output_type": "stream",
     "text": [
      "Requirement already satisfied: openai-whisper in c:\\users\\hari\\anaconda3\\lib\\site-packages (20240930)\n",
      "Requirement already satisfied: numba in c:\\users\\hari\\anaconda3\\lib\\site-packages (from openai-whisper) (0.61.0)\n",
      "Requirement already satisfied: numpy in c:\\users\\hari\\anaconda3\\lib\\site-packages (from openai-whisper) (2.1.3)\n",
      "Requirement already satisfied: torch in c:\\users\\hari\\anaconda3\\lib\\site-packages (from openai-whisper) (2.6.0)\n",
      "Requirement already satisfied: tqdm in c:\\users\\hari\\anaconda3\\lib\\site-packages (from openai-whisper) (4.66.5)\n",
      "Requirement already satisfied: more-itertools in c:\\users\\hari\\anaconda3\\lib\\site-packages (from openai-whisper) (10.3.0)\n",
      "Requirement already satisfied: tiktoken in c:\\users\\hari\\anaconda3\\lib\\site-packages (from openai-whisper) (0.9.0)\n",
      "Requirement already satisfied: llvmlite<0.45,>=0.44.0dev0 in c:\\users\\hari\\anaconda3\\lib\\site-packages (from numba->openai-whisper) (0.44.0)\n",
      "Requirement already satisfied: regex>=2022.1.18 in c:\\users\\hari\\anaconda3\\lib\\site-packages (from tiktoken->openai-whisper) (2024.11.6)\n",
      "Requirement already satisfied: requests>=2.26.0 in c:\\users\\hari\\anaconda3\\lib\\site-packages (from tiktoken->openai-whisper) (2.32.3)\n",
      "Requirement already satisfied: filelock in c:\\users\\hari\\anaconda3\\lib\\site-packages (from torch->openai-whisper) (3.13.1)\n",
      "Requirement already satisfied: typing-extensions>=4.10.0 in c:\\users\\hari\\anaconda3\\lib\\site-packages (from torch->openai-whisper) (4.12.2)\n",
      "Requirement already satisfied: networkx in c:\\users\\hari\\anaconda3\\lib\\site-packages (from torch->openai-whisper) (3.3)\n",
      "Requirement already satisfied: jinja2 in c:\\users\\hari\\anaconda3\\lib\\site-packages (from torch->openai-whisper) (3.1.4)\n",
      "Requirement already satisfied: fsspec in c:\\users\\hari\\anaconda3\\lib\\site-packages (from torch->openai-whisper) (2024.6.1)\n",
      "Requirement already satisfied: setuptools in c:\\users\\hari\\anaconda3\\lib\\site-packages (from torch->openai-whisper) (75.8.2)\n",
      "Requirement already satisfied: sympy==1.13.1 in c:\\users\\hari\\anaconda3\\lib\\site-packages (from torch->openai-whisper) (1.13.1)\n",
      "Requirement already satisfied: mpmath<1.4,>=1.1.0 in c:\\users\\hari\\anaconda3\\lib\\site-packages (from sympy==1.13.1->torch->openai-whisper) (1.3.0)\n",
      "Requirement already satisfied: colorama in c:\\users\\hari\\anaconda3\\lib\\site-packages (from tqdm->openai-whisper) (0.4.6)\n",
      "Requirement already satisfied: charset-normalizer<4,>=2 in c:\\users\\hari\\anaconda3\\lib\\site-packages (from requests>=2.26.0->tiktoken->openai-whisper) (3.3.2)\n",
      "Requirement already satisfied: idna<4,>=2.5 in c:\\users\\hari\\anaconda3\\lib\\site-packages (from requests>=2.26.0->tiktoken->openai-whisper) (3.7)\n",
      "Requirement already satisfied: urllib3<3,>=1.21.1 in c:\\users\\hari\\anaconda3\\lib\\site-packages (from requests>=2.26.0->tiktoken->openai-whisper) (2.2.3)\n",
      "Requirement already satisfied: certifi>=2017.4.17 in c:\\users\\hari\\anaconda3\\lib\\site-packages (from requests>=2.26.0->tiktoken->openai-whisper) (2025.1.31)\n",
      "Requirement already satisfied: MarkupSafe>=2.0 in c:\\users\\hari\\anaconda3\\lib\\site-packages (from jinja2->torch->openai-whisper) (2.1.3)\n"
     ]
    }
   ],
   "source": [
    "!pip install openai-whisper"
   ]
  },
  {
   "cell_type": "code",
   "execution_count": 16,
   "id": "d575742e-3395-4cbd-9cba-2364572cf22e",
   "metadata": {},
   "outputs": [
    {
     "name": "stdout",
     "output_type": "stream",
     "text": [
      "Requirement already satisfied: pyannote.audio in c:\\users\\hari\\anaconda3\\lib\\site-packages (3.3.2)\n",
      "Requirement already satisfied: asteroid-filterbanks>=0.4 in c:\\users\\hari\\anaconda3\\lib\\site-packages (from pyannote.audio) (0.4.0)\n",
      "Requirement already satisfied: einops>=0.6.0 in c:\\users\\hari\\anaconda3\\lib\\site-packages (from pyannote.audio) (0.8.1)\n",
      "Requirement already satisfied: huggingface-hub>=0.13.0 in c:\\users\\hari\\anaconda3\\lib\\site-packages (from pyannote.audio) (0.29.2)\n",
      "Requirement already satisfied: lightning>=2.0.1 in c:\\users\\hari\\anaconda3\\lib\\site-packages (from pyannote.audio) (2.5.0.post0)\n",
      "Requirement already satisfied: omegaconf<3.0,>=2.1 in c:\\users\\hari\\anaconda3\\lib\\site-packages (from pyannote.audio) (2.3.0)\n",
      "Requirement already satisfied: pyannote.core>=5.0.0 in c:\\users\\hari\\anaconda3\\lib\\site-packages (from pyannote.audio) (5.0.0)\n",
      "Requirement already satisfied: pyannote.database>=5.0.1 in c:\\users\\hari\\anaconda3\\lib\\site-packages (from pyannote.audio) (5.1.3)\n",
      "Requirement already satisfied: pyannote.metrics>=3.2 in c:\\users\\hari\\anaconda3\\lib\\site-packages (from pyannote.audio) (3.2.1)\n",
      "Requirement already satisfied: pyannote.pipeline>=3.0.1 in c:\\users\\hari\\anaconda3\\lib\\site-packages (from pyannote.audio) (3.0.1)\n",
      "Requirement already satisfied: pytorch-metric-learning>=2.1.0 in c:\\users\\hari\\anaconda3\\lib\\site-packages (from pyannote.audio) (2.8.1)\n",
      "Requirement already satisfied: rich>=12.0.0 in c:\\users\\hari\\anaconda3\\lib\\site-packages (from pyannote.audio) (13.9.4)\n",
      "Requirement already satisfied: semver>=3.0.0 in c:\\users\\hari\\anaconda3\\lib\\site-packages (from pyannote.audio) (3.0.2)\n",
      "Requirement already satisfied: soundfile>=0.12.1 in c:\\users\\hari\\anaconda3\\lib\\site-packages (from pyannote.audio) (0.13.1)\n",
      "Requirement already satisfied: speechbrain>=1.0.0 in c:\\users\\hari\\anaconda3\\lib\\site-packages (from pyannote.audio) (1.0.2)\n",
      "Requirement already satisfied: tensorboardX>=2.6 in c:\\users\\hari\\anaconda3\\lib\\site-packages (from pyannote.audio) (2.6.2.2)\n",
      "Requirement already satisfied: torch>=2.0.0 in c:\\users\\hari\\anaconda3\\lib\\site-packages (from pyannote.audio) (2.6.0)\n",
      "Requirement already satisfied: torch-audiomentations>=0.11.0 in c:\\users\\hari\\anaconda3\\lib\\site-packages (from pyannote.audio) (0.12.0)\n",
      "Requirement already satisfied: torchaudio>=2.2.0 in c:\\users\\hari\\anaconda3\\lib\\site-packages (from pyannote.audio) (2.6.0)\n",
      "Requirement already satisfied: torchmetrics>=0.11.0 in c:\\users\\hari\\anaconda3\\lib\\site-packages (from pyannote.audio) (1.6.2)\n",
      "Requirement already satisfied: numpy in c:\\users\\hari\\anaconda3\\lib\\site-packages (from asteroid-filterbanks>=0.4->pyannote.audio) (2.1.3)\n",
      "Requirement already satisfied: typing-extensions in c:\\users\\hari\\anaconda3\\lib\\site-packages (from asteroid-filterbanks>=0.4->pyannote.audio) (4.12.2)\n",
      "Requirement already satisfied: filelock in c:\\users\\hari\\anaconda3\\lib\\site-packages (from huggingface-hub>=0.13.0->pyannote.audio) (3.13.1)\n",
      "Requirement already satisfied: fsspec>=2023.5.0 in c:\\users\\hari\\anaconda3\\lib\\site-packages (from huggingface-hub>=0.13.0->pyannote.audio) (2024.6.1)\n",
      "Requirement already satisfied: packaging>=20.9 in c:\\users\\hari\\anaconda3\\lib\\site-packages (from huggingface-hub>=0.13.0->pyannote.audio) (24.1)\n",
      "Requirement already satisfied: pyyaml>=5.1 in c:\\users\\hari\\anaconda3\\lib\\site-packages (from huggingface-hub>=0.13.0->pyannote.audio) (6.0.1)\n",
      "Requirement already satisfied: requests in c:\\users\\hari\\anaconda3\\lib\\site-packages (from huggingface-hub>=0.13.0->pyannote.audio) (2.32.3)\n",
      "Requirement already satisfied: tqdm>=4.42.1 in c:\\users\\hari\\anaconda3\\lib\\site-packages (from huggingface-hub>=0.13.0->pyannote.audio) (4.66.5)\n",
      "Requirement already satisfied: lightning-utilities<2.0,>=0.10.0 in c:\\users\\hari\\anaconda3\\lib\\site-packages (from lightning>=2.0.1->pyannote.audio) (0.14.0)\n",
      "Requirement already satisfied: pytorch-lightning in c:\\users\\hari\\anaconda3\\lib\\site-packages (from lightning>=2.0.1->pyannote.audio) (2.5.0.post0)\n",
      "Requirement already satisfied: antlr4-python3-runtime==4.9.* in c:\\users\\hari\\anaconda3\\lib\\site-packages (from omegaconf<3.0,>=2.1->pyannote.audio) (4.9.3)\n",
      "Requirement already satisfied: sortedcontainers>=2.0.4 in c:\\users\\hari\\anaconda3\\lib\\site-packages (from pyannote.core>=5.0.0->pyannote.audio) (2.4.0)\n",
      "Requirement already satisfied: scipy>=1.1 in c:\\users\\hari\\anaconda3\\lib\\site-packages (from pyannote.core>=5.0.0->pyannote.audio) (1.15.2)\n",
      "Requirement already satisfied: pandas>=0.19 in c:\\users\\hari\\anaconda3\\lib\\site-packages (from pyannote.database>=5.0.1->pyannote.audio) (2.2.3)\n",
      "Requirement already satisfied: typer>=0.12.1 in c:\\users\\hari\\anaconda3\\lib\\site-packages (from pyannote.database>=5.0.1->pyannote.audio) (0.15.2)\n",
      "Requirement already satisfied: scikit-learn>=0.17.1 in c:\\users\\hari\\anaconda3\\lib\\site-packages (from pyannote.metrics>=3.2->pyannote.audio) (1.6.1)\n",
      "Requirement already satisfied: docopt>=0.6.2 in c:\\users\\hari\\anaconda3\\lib\\site-packages (from pyannote.metrics>=3.2->pyannote.audio) (0.6.2)\n",
      "Requirement already satisfied: tabulate>=0.7.7 in c:\\users\\hari\\anaconda3\\lib\\site-packages (from pyannote.metrics>=3.2->pyannote.audio) (0.9.0)\n",
      "Requirement already satisfied: matplotlib>=2.0.0 in c:\\users\\hari\\anaconda3\\lib\\site-packages (from pyannote.metrics>=3.2->pyannote.audio) (3.10.1)\n",
      "Requirement already satisfied: sympy>=1.1 in c:\\users\\hari\\anaconda3\\lib\\site-packages (from pyannote.metrics>=3.2->pyannote.audio) (1.13.1)\n",
      "Requirement already satisfied: optuna>=3.1 in c:\\users\\hari\\anaconda3\\lib\\site-packages (from pyannote.pipeline>=3.0.1->pyannote.audio) (4.2.1)\n",
      "Requirement already satisfied: markdown-it-py>=2.2.0 in c:\\users\\hari\\anaconda3\\lib\\site-packages (from rich>=12.0.0->pyannote.audio) (3.0.0)\n",
      "Requirement already satisfied: pygments<3.0.0,>=2.13.0 in c:\\users\\hari\\anaconda3\\lib\\site-packages (from rich>=12.0.0->pyannote.audio) (2.15.1)\n",
      "Requirement already satisfied: cffi>=1.0 in c:\\users\\hari\\anaconda3\\lib\\site-packages (from soundfile>=0.12.1->pyannote.audio) (1.17.1)\n",
      "Requirement already satisfied: hyperpyyaml in c:\\users\\hari\\anaconda3\\lib\\site-packages (from speechbrain>=1.0.0->pyannote.audio) (1.2.2)\n",
      "Requirement already satisfied: joblib in c:\\users\\hari\\anaconda3\\lib\\site-packages (from speechbrain>=1.0.0->pyannote.audio) (1.4.2)\n",
      "Requirement already satisfied: sentencepiece in c:\\users\\hari\\anaconda3\\lib\\site-packages (from speechbrain>=1.0.0->pyannote.audio) (0.2.0)\n",
      "Requirement already satisfied: protobuf>=3.20 in c:\\users\\hari\\anaconda3\\lib\\site-packages (from tensorboardX>=2.6->pyannote.audio) (5.29.3)\n",
      "Requirement already satisfied: networkx in c:\\users\\hari\\anaconda3\\lib\\site-packages (from torch>=2.0.0->pyannote.audio) (3.3)\n",
      "Requirement already satisfied: jinja2 in c:\\users\\hari\\anaconda3\\lib\\site-packages (from torch>=2.0.0->pyannote.audio) (3.1.4)\n",
      "Requirement already satisfied: setuptools in c:\\users\\hari\\anaconda3\\lib\\site-packages (from torch>=2.0.0->pyannote.audio) (75.8.2)\n",
      "Requirement already satisfied: mpmath<1.4,>=1.1.0 in c:\\users\\hari\\anaconda3\\lib\\site-packages (from sympy>=1.1->pyannote.metrics>=3.2->pyannote.audio) (1.3.0)\n",
      "Requirement already satisfied: julius<0.3,>=0.2.3 in c:\\users\\hari\\anaconda3\\lib\\site-packages (from torch-audiomentations>=0.11.0->pyannote.audio) (0.2.7)\n",
      "Requirement already satisfied: torch-pitch-shift>=1.2.2 in c:\\users\\hari\\anaconda3\\lib\\site-packages (from torch-audiomentations>=0.11.0->pyannote.audio) (1.2.5)\n",
      "Requirement already satisfied: pycparser in c:\\users\\hari\\anaconda3\\lib\\site-packages (from cffi>=1.0->soundfile>=0.12.1->pyannote.audio) (2.21)\n",
      "Requirement already satisfied: aiohttp!=4.0.0a0,!=4.0.0a1 in c:\\users\\hari\\anaconda3\\lib\\site-packages (from fsspec[http]<2026.0,>=2022.5.0->lightning>=2.0.1->pyannote.audio) (3.10.5)\n",
      "Requirement already satisfied: mdurl~=0.1 in c:\\users\\hari\\anaconda3\\lib\\site-packages (from markdown-it-py>=2.2.0->rich>=12.0.0->pyannote.audio) (0.1.2)\n",
      "Requirement already satisfied: contourpy>=1.0.1 in c:\\users\\hari\\anaconda3\\lib\\site-packages (from matplotlib>=2.0.0->pyannote.metrics>=3.2->pyannote.audio) (1.3.1)\n",
      "Requirement already satisfied: cycler>=0.10 in c:\\users\\hari\\anaconda3\\lib\\site-packages (from matplotlib>=2.0.0->pyannote.metrics>=3.2->pyannote.audio) (0.12.1)\n",
      "Requirement already satisfied: fonttools>=4.22.0 in c:\\users\\hari\\anaconda3\\lib\\site-packages (from matplotlib>=2.0.0->pyannote.metrics>=3.2->pyannote.audio) (4.56.0)\n",
      "Requirement already satisfied: kiwisolver>=1.3.1 in c:\\users\\hari\\anaconda3\\lib\\site-packages (from matplotlib>=2.0.0->pyannote.metrics>=3.2->pyannote.audio) (1.4.8)\n",
      "Requirement already satisfied: pillow>=8 in c:\\users\\hari\\anaconda3\\lib\\site-packages (from matplotlib>=2.0.0->pyannote.metrics>=3.2->pyannote.audio) (10.4.0)\n",
      "Requirement already satisfied: pyparsing>=2.3.1 in c:\\users\\hari\\anaconda3\\lib\\site-packages (from matplotlib>=2.0.0->pyannote.metrics>=3.2->pyannote.audio) (3.2.1)\n",
      "Requirement already satisfied: python-dateutil>=2.7 in c:\\users\\hari\\anaconda3\\lib\\site-packages (from matplotlib>=2.0.0->pyannote.metrics>=3.2->pyannote.audio) (2.9.0.post0)\n",
      "Requirement already satisfied: alembic>=1.5.0 in c:\\users\\hari\\anaconda3\\lib\\site-packages (from optuna>=3.1->pyannote.pipeline>=3.0.1->pyannote.audio) (1.15.1)\n",
      "Requirement already satisfied: colorlog in c:\\users\\hari\\anaconda3\\lib\\site-packages (from optuna>=3.1->pyannote.pipeline>=3.0.1->pyannote.audio) (6.9.0)\n",
      "Requirement already satisfied: sqlalchemy>=1.4.2 in c:\\users\\hari\\anaconda3\\lib\\site-packages (from optuna>=3.1->pyannote.pipeline>=3.0.1->pyannote.audio) (2.0.38)\n",
      "Requirement already satisfied: pytz>=2020.1 in c:\\users\\hari\\anaconda3\\lib\\site-packages (from pandas>=0.19->pyannote.database>=5.0.1->pyannote.audio) (2024.1)\n",
      "Requirement already satisfied: tzdata>=2022.7 in c:\\users\\hari\\anaconda3\\lib\\site-packages (from pandas>=0.19->pyannote.database>=5.0.1->pyannote.audio) (2025.1)\n",
      "Requirement already satisfied: threadpoolctl>=3.1.0 in c:\\users\\hari\\anaconda3\\lib\\site-packages (from scikit-learn>=0.17.1->pyannote.metrics>=3.2->pyannote.audio) (3.5.0)\n",
      "Requirement already satisfied: primePy>=1.3 in c:\\users\\hari\\anaconda3\\lib\\site-packages (from torch-pitch-shift>=1.2.2->torch-audiomentations>=0.11.0->pyannote.audio) (1.3)\n",
      "Requirement already satisfied: colorama in c:\\users\\hari\\anaconda3\\lib\\site-packages (from tqdm>=4.42.1->huggingface-hub>=0.13.0->pyannote.audio) (0.4.6)\n",
      "Requirement already satisfied: click>=8.0.0 in c:\\users\\hari\\anaconda3\\lib\\site-packages (from typer>=0.12.1->pyannote.database>=5.0.1->pyannote.audio) (8.1.7)\n",
      "Requirement already satisfied: shellingham>=1.3.0 in c:\\users\\hari\\anaconda3\\lib\\site-packages (from typer>=0.12.1->pyannote.database>=5.0.1->pyannote.audio) (1.5.4)\n",
      "Requirement already satisfied: ruamel.yaml>=0.17.28 in c:\\users\\hari\\anaconda3\\lib\\site-packages (from hyperpyyaml->speechbrain>=1.0.0->pyannote.audio) (0.18.6)\n",
      "Requirement already satisfied: MarkupSafe>=2.0 in c:\\users\\hari\\anaconda3\\lib\\site-packages (from jinja2->torch>=2.0.0->pyannote.audio) (2.1.3)\n",
      "Requirement already satisfied: charset-normalizer<4,>=2 in c:\\users\\hari\\anaconda3\\lib\\site-packages (from requests->huggingface-hub>=0.13.0->pyannote.audio) (3.3.2)\n",
      "Requirement already satisfied: idna<4,>=2.5 in c:\\users\\hari\\anaconda3\\lib\\site-packages (from requests->huggingface-hub>=0.13.0->pyannote.audio) (3.7)\n",
      "Requirement already satisfied: urllib3<3,>=1.21.1 in c:\\users\\hari\\anaconda3\\lib\\site-packages (from requests->huggingface-hub>=0.13.0->pyannote.audio) (2.2.3)\n",
      "Requirement already satisfied: certifi>=2017.4.17 in c:\\users\\hari\\anaconda3\\lib\\site-packages (from requests->huggingface-hub>=0.13.0->pyannote.audio) (2025.1.31)\n",
      "Requirement already satisfied: aiohappyeyeballs>=2.3.0 in c:\\users\\hari\\anaconda3\\lib\\site-packages (from aiohttp!=4.0.0a0,!=4.0.0a1->fsspec[http]<2026.0,>=2022.5.0->lightning>=2.0.1->pyannote.audio) (2.4.0)\n",
      "Requirement already satisfied: aiosignal>=1.1.2 in c:\\users\\hari\\anaconda3\\lib\\site-packages (from aiohttp!=4.0.0a0,!=4.0.0a1->fsspec[http]<2026.0,>=2022.5.0->lightning>=2.0.1->pyannote.audio) (1.2.0)\n",
      "Requirement already satisfied: attrs>=17.3.0 in c:\\users\\hari\\anaconda3\\lib\\site-packages (from aiohttp!=4.0.0a0,!=4.0.0a1->fsspec[http]<2026.0,>=2022.5.0->lightning>=2.0.1->pyannote.audio) (23.1.0)\n",
      "Requirement already satisfied: frozenlist>=1.1.1 in c:\\users\\hari\\anaconda3\\lib\\site-packages (from aiohttp!=4.0.0a0,!=4.0.0a1->fsspec[http]<2026.0,>=2022.5.0->lightning>=2.0.1->pyannote.audio) (1.4.0)\n",
      "Requirement already satisfied: multidict<7.0,>=4.5 in c:\\users\\hari\\anaconda3\\lib\\site-packages (from aiohttp!=4.0.0a0,!=4.0.0a1->fsspec[http]<2026.0,>=2022.5.0->lightning>=2.0.1->pyannote.audio) (6.0.4)\n",
      "Requirement already satisfied: yarl<2.0,>=1.0 in c:\\users\\hari\\anaconda3\\lib\\site-packages (from aiohttp!=4.0.0a0,!=4.0.0a1->fsspec[http]<2026.0,>=2022.5.0->lightning>=2.0.1->pyannote.audio) (1.11.0)\n",
      "Requirement already satisfied: Mako in c:\\users\\hari\\anaconda3\\lib\\site-packages (from alembic>=1.5.0->optuna>=3.1->pyannote.pipeline>=3.0.1->pyannote.audio) (1.3.9)\n",
      "Requirement already satisfied: six>=1.5 in c:\\users\\hari\\anaconda3\\lib\\site-packages (from python-dateutil>=2.7->matplotlib>=2.0.0->pyannote.metrics>=3.2->pyannote.audio) (1.16.0)\n",
      "Requirement already satisfied: ruamel.yaml.clib>=0.2.7 in c:\\users\\hari\\anaconda3\\lib\\site-packages (from ruamel.yaml>=0.17.28->hyperpyyaml->speechbrain>=1.0.0->pyannote.audio) (0.2.8)\n",
      "Requirement already satisfied: greenlet!=0.4.17 in c:\\users\\hari\\anaconda3\\lib\\site-packages (from sqlalchemy>=1.4.2->optuna>=3.1->pyannote.pipeline>=3.0.1->pyannote.audio) (3.1.1)\n"
     ]
    }
   ],
   "source": [
    "!pip install --upgrade pyannote.audio"
   ]
  },
  {
   "cell_type": "code",
   "execution_count": 17,
   "id": "8ff84d43-7091-47f8-9f5c-7a8b705e2759",
   "metadata": {},
   "outputs": [
    {
     "name": "stdout",
     "output_type": "stream",
     "text": [
      "Requirement already satisfied: pip in c:\\users\\hari\\anaconda3\\lib\\site-packages (25.0.1)\n",
      "Requirement already satisfied: setuptools in c:\\users\\hari\\anaconda3\\lib\\site-packages (75.8.2)\n",
      "Requirement already satisfied: wheel in c:\\users\\hari\\anaconda3\\lib\\site-packages (0.45.1)\n",
      "Note: you may need to restart the kernel to use updated packages.\n"
     ]
    }
   ],
   "source": [
    "pip install --upgrade pip setuptools wheel"
   ]
  },
  {
   "cell_type": "code",
   "execution_count": 18,
   "id": "63c9368c-c80b-4d0a-a5cc-d11f4c8cfb02",
   "metadata": {},
   "outputs": [
    {
     "name": "stdout",
     "output_type": "stream",
     "text": [
      "Note: you may need to restart the kernel to use updated packages.Collecting numpy==1.23.5\n",
      "  Using cached numpy-1.23.5.tar.gz (10.7 MB)\n",
      "  Installing build dependencies: started\n",
      "  Installing build dependencies: finished with status 'done'\n",
      "  Getting requirements to build wheel: started\n",
      "  Getting requirements to build wheel: finished with status 'error'\n",
      "\n"
     ]
    },
    {
     "name": "stderr",
     "output_type": "stream",
     "text": [
      "  error: subprocess-exited-with-error\n",
      "  \n",
      "  Getting requirements to build wheel did not run successfully.\n",
      "  exit code: 1\n",
      "  \n",
      "  [33 lines of output]\n",
      "  Traceback (most recent call last):\n",
      "    File \"C:\\Users\\HARI\\anaconda3\\Lib\\site-packages\\pip\\_vendor\\pyproject_hooks\\_in_process\\_in_process.py\", line 389, in <module>\n",
      "      main()\n",
      "    File \"C:\\Users\\HARI\\anaconda3\\Lib\\site-packages\\pip\\_vendor\\pyproject_hooks\\_in_process\\_in_process.py\", line 373, in main\n",
      "      json_out[\"return_val\"] = hook(**hook_input[\"kwargs\"])\n",
      "                               ^^^^^^^^^^^^^^^^^^^^^^^^^^^^\n",
      "    File \"C:\\Users\\HARI\\anaconda3\\Lib\\site-packages\\pip\\_vendor\\pyproject_hooks\\_in_process\\_in_process.py\", line 137, in get_requires_for_build_wheel\n",
      "      backend = _build_backend()\n",
      "                ^^^^^^^^^^^^^^^^\n",
      "    File \"C:\\Users\\HARI\\anaconda3\\Lib\\site-packages\\pip\\_vendor\\pyproject_hooks\\_in_process\\_in_process.py\", line 70, in _build_backend\n",
      "      obj = import_module(mod_path)\n",
      "            ^^^^^^^^^^^^^^^^^^^^^^^\n",
      "    File \"C:\\Users\\HARI\\anaconda3\\Lib\\importlib\\__init__.py\", line 90, in import_module\n",
      "      return _bootstrap._gcd_import(name[level:], package, level)\n",
      "             ^^^^^^^^^^^^^^^^^^^^^^^^^^^^^^^^^^^^^^^^^^^^^^^^^^^^\n",
      "    File \"<frozen importlib._bootstrap>\", line 1387, in _gcd_import\n",
      "    File \"<frozen importlib._bootstrap>\", line 1360, in _find_and_load\n",
      "    File \"<frozen importlib._bootstrap>\", line 1310, in _find_and_load_unlocked\n",
      "    File \"<frozen importlib._bootstrap>\", line 488, in _call_with_frames_removed\n",
      "    File \"<frozen importlib._bootstrap>\", line 1387, in _gcd_import\n",
      "    File \"<frozen importlib._bootstrap>\", line 1360, in _find_and_load\n",
      "    File \"<frozen importlib._bootstrap>\", line 1331, in _find_and_load_unlocked\n",
      "    File \"<frozen importlib._bootstrap>\", line 935, in _load_unlocked\n",
      "    File \"<frozen importlib._bootstrap_external>\", line 995, in exec_module\n",
      "    File \"<frozen importlib._bootstrap>\", line 488, in _call_with_frames_removed\n",
      "    File \"C:\\Users\\HARI\\AppData\\Local\\Temp\\pip-build-env-3z_jjzvz\\overlay\\Lib\\site-packages\\setuptools\\__init__.py\", line 16, in <module>\n",
      "      import setuptools.version\n",
      "    File \"C:\\Users\\HARI\\AppData\\Local\\Temp\\pip-build-env-3z_jjzvz\\overlay\\Lib\\site-packages\\setuptools\\version.py\", line 1, in <module>\n",
      "      import pkg_resources\n",
      "    File \"C:\\Users\\HARI\\AppData\\Local\\Temp\\pip-build-env-3z_jjzvz\\overlay\\Lib\\site-packages\\pkg_resources\\__init__.py\", line 2172, in <module>\n",
      "      register_finder(pkgutil.ImpImporter, find_on_path)\n",
      "                      ^^^^^^^^^^^^^^^^^^^\n",
      "  AttributeError: module 'pkgutil' has no attribute 'ImpImporter'. Did you mean: 'zipimporter'?\n",
      "  [end of output]\n",
      "  \n",
      "  note: This error originates from a subprocess, and is likely not a problem with pip.\n",
      "error: subprocess-exited-with-error\n",
      "\n",
      "Getting requirements to build wheel did not run successfully.\n",
      "exit code: 1\n",
      "\n",
      "See above for output.\n",
      "\n",
      "note: This error originates from a subprocess, and is likely not a problem with pip.\n"
     ]
    }
   ],
   "source": [
    "pip install numpy==1.23.5"
   ]
  },
  {
   "cell_type": "code",
   "execution_count": 1,
   "id": "d335a6a4-6500-4831-a4ab-43f2288e5fbb",
   "metadata": {},
   "outputs": [
    {
     "name": "stderr",
     "output_type": "stream",
     "text": [
      "C:\\Users\\HARI\\anaconda3\\Lib\\site-packages\\tqdm\\auto.py:21: TqdmWarning: IProgress not found. Please update jupyter and ipywidgets. See https://ipywidgets.readthedocs.io/en/stable/user_install.html\n",
      "  from .autonotebook import tqdm as notebook_tqdm\n"
     ]
    },
    {
     "name": "stdout",
     "output_type": "stream",
     "text": [
      "Recording...\n",
      "Recording completed!\n",
      "Audio saved to audio.wav\n"
     ]
    },
    {
     "name": "stderr",
     "output_type": "stream",
     "text": [
      "INFO:speechbrain.utils.quirks:Applied quirks (see `speechbrain.utils.quirks`): [allow_tf32, disable_jit_profiling]\n",
      "INFO:speechbrain.utils.quirks:Excluded quirks specified by the `SB_DISABLE_QUIRKS` environment (comma-separated list): []\n",
      "C:\\Users\\HARI\\anaconda3\\Lib\\inspect.py:1007: UserWarning: Module 'speechbrain.pretrained' was deprecated, redirecting to 'speechbrain.inference'. Please update your script. This is a change from SpeechBrain 1.0. See: https://github.com/speechbrain/speechbrain/releases/tag/v1.0.0\n",
      "  if ismodule(module) and hasattr(module, '__file__'):\n"
     ]
    },
    {
     "name": "stdout",
     "output_type": "stream",
     "text": [
      "Running speaker diarization...\n"
     ]
    },
    {
     "name": "stderr",
     "output_type": "stream",
     "text": [
      "C:\\Users\\HARI\\anaconda3\\Lib\\site-packages\\pyannote\\audio\\models\\blocks\\pooling.py:104: UserWarning: std(): degrees of freedom is <= 0. Correction should be strictly less than the reduction factor (input numel divided by output numel). (Triggered internally at C:\\actions-runner\\_work\\pytorch\\pytorch\\pytorch\\aten\\src\\ATen\\native\\ReduceOps.cpp:1831.)\n",
      "  std = sequences.std(dim=-1, correction=1)\n"
     ]
    },
    {
     "name": "stdout",
     "output_type": "stream",
     "text": [
      "Diarization completed!\n",
      "Loading Whisper ASR model...\n",
      "ASR model loaded!\n"
     ]
    },
    {
     "name": "stderr",
     "output_type": "stream",
     "text": [
      "C:\\Users\\HARI\\anaconda3\\Lib\\site-packages\\whisper\\transcribe.py:126: UserWarning: FP16 is not supported on CPU; using FP32 instead\n",
      "  warnings.warn(\"FP16 is not supported on CPU; using FP32 instead\")\n"
     ]
    },
    {
     "name": "stdout",
     "output_type": "stream",
     "text": [
      "\n",
      "Number of speakers: 1\n",
      "SPEAKER_00:   Hello and hi everyone, what's up in here? And we will do this already what goes forward.  That's why I am brutal.\n"
     ]
    }
   ],
   "source": [
    "import sounddevice as sd\n",
    "from scipy.io.wavfile import write\n",
    "import torchaudio\n",
    "import torch\n",
    "from pyannote.audio import Pipeline\n",
    "from whisper import load_model\n",
    "from pyannote.core import Segment\n",
    "\n",
    "# 1. Record audio\n",
    "duration = 10  # seconds\n",
    "sample_rate = 44100  # Hz\n",
    "print(\"Recording...\")\n",
    "audio = sd.rec(int(duration * sample_rate), samplerate=sample_rate, channels=2, dtype='int16')\n",
    "sd.wait()\n",
    "print(\"Recording completed!\")\n",
    "\n",
    "output_file = \"audio.wav\"\n",
    "write(output_file, sample_rate, audio)\n",
    "print(f\"Audio saved to {output_file}\")\n",
    "\n",
    "# 2. Load diarization pipeline\n",
    "pipeline = Pipeline.from_pretrained(\n",
    "    \"pyannote/speaker-diarization-3.1\",\n",
    "    use_auth_token=\"replace_hf_token\"\n",
    ")\n",
    "\n",
    "# 3. Set device\n",
    "device = torch.device(\"cuda\" if torch.cuda.is_available() else \"cpu\")\n",
    "pipeline.to(device)\n",
    "\n",
    "# 4. Load recorded audio\n",
    "waveform, sr = torchaudio.load(output_file)\n",
    "\n",
    "# 5. Perform diarization\n",
    "print(\"Running speaker diarization...\")\n",
    "diarization = pipeline({\"waveform\": waveform, \"sample_rate\": sr})\n",
    "print(\"Diarization completed!\")\n",
    "\n",
    "# 6. Load Whisper model\n",
    "print(\"Loading Whisper ASR model...\")\n",
    "asr_model = load_model(\"base\")  # Options: tiny, base, small, medium, large\n",
    "print(\"ASR model loaded!\")\n",
    "\n",
    "# 7. Extract and transcribe speaker segments\n",
    "speaker_text = {}\n",
    "for turn, _, speaker in diarization.itertracks(yield_label=True):\n",
    "    segment = waveform[:, int(turn.start * sr): int(turn.end * sr)]\n",
    "    temp_file = \"temp_segment.wav\"\n",
    "    torchaudio.save(temp_file, segment, sr)\n",
    "\n",
    "    result = asr_model.transcribe(temp_file)\n",
    "    transcription = result[\"text\"]\n",
    "\n",
    "    if speaker not in speaker_text:\n",
    "        speaker_text[speaker] = \"\"\n",
    "    speaker_text[speaker] += f\" {transcription}\"\n",
    "\n",
    "# 8. Print results\n",
    "num_speakers = len(speaker_text)\n",
    "print(f\"\\nNumber of speakers: {num_speakers}\")\n",
    "for speaker, text in speaker_text.items():\n",
    "    print(f\"{speaker}: {text}\")\n"
   ]
  }
 ],
 "metadata": {
  "kernelspec": {
   "display_name": "Python 3 (ipykernel)",
   "language": "python",
   "name": "python3"
  },
  "language_info": {
   "codemirror_mode": {
    "name": "ipython",
    "version": 3
   },
   "file_extension": ".py",
   "mimetype": "text/x-python",
   "name": "python",
   "nbconvert_exporter": "python",
   "pygments_lexer": "ipython3",
   "version": "3.12.7"
  }
 },
 "nbformat": 4,
 "nbformat_minor": 5
}
